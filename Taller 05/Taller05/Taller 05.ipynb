{
 "cells": [
  {
   "cell_type": "code",
   "execution_count": 1,
   "metadata": {},
   "outputs": [],
   "source": [
    "%load_ext autoreload"
   ]
  },
  {
   "cell_type": "code",
   "execution_count": 5,
   "metadata": {},
   "outputs": [
    {
     "ename": "NameError",
     "evalue": "name 'gauss_jacobi' is not defined",
     "output_type": "error",
     "traceback": [
      "\u001b[1;31m---------------------------------------------------------------------------\u001b[0m",
      "\u001b[1;31mNameError\u001b[0m                                 Traceback (most recent call last)",
      "Cell \u001b[1;32mIn[5], line 14\u001b[0m\n\u001b[0;32m     11\u001b[0m max_iterations \u001b[38;5;241m=\u001b[39m \u001b[38;5;241m100\u001b[39m\n\u001b[0;32m     13\u001b[0m \u001b[38;5;66;03m# Llamada a la función gauss_jacobi\u001b[39;00m\n\u001b[1;32m---> 14\u001b[0m x_jacobi, tray_jacobi \u001b[38;5;241m=\u001b[39m gauss_jacobi(A\u001b[38;5;241m=\u001b[39mA, b\u001b[38;5;241m=\u001b[39mb, x0\u001b[38;5;241m=\u001b[39mx0, tol\u001b[38;5;241m=\u001b[39mtol, max_iter\u001b[38;5;241m=\u001b[39mmax_iterations)\n\u001b[0;32m     16\u001b[0m \u001b[38;5;66;03m# Llamada a la función gauss_seidel\u001b[39;00m\n\u001b[0;32m     17\u001b[0m x_seidel, tray_seidel \u001b[38;5;241m=\u001b[39m gauss_seidel(A\u001b[38;5;241m=\u001b[39mA, b\u001b[38;5;241m=\u001b[39mb, x0\u001b[38;5;241m=\u001b[39mx0, tol\u001b[38;5;241m=\u001b[39mtol, max_iter\u001b[38;5;241m=\u001b[39mmax_iterations)\n",
      "\u001b[1;31mNameError\u001b[0m: name 'gauss_jacobi' is not defined"
     ]
    }
   ],
   "source": [
    "%autoreload 2\n",
    "from src import gauss_seidel  # Importa gauss_seidel\n",
    "import matplotlib.pyplot as plt\n",
    "\n",
    "\n",
    "# Datos del sistema\n",
    "A = [[2, 10], [3, 2]]\n",
    "b = [16, 11]\n",
    "x0 = [1, 1]\n",
    "tol = 1e-1\n",
    "max_iterations = 100\n",
    "\n",
    "# Llamada a la función gauss_jacobi\n",
    "x_jacobi, tray_jacobi = gauss_jacobi(A=A, b=b, x0=x0, tol=tol, max_iter=max_iterations)\n",
    "\n",
    "# Llamada a la función gauss_seidel\n",
    "x_seidel, tray_seidel = gauss_seidel(A=A, b=b, x0=x0, tol=tol, max_iter=max_iterations)\n",
    "\n",
    "# Extraer las trayectorias de x[0] y x[1] para ambos métodos\n",
    "x0_vals_jacobi = [xi[0][0] for xi in tray_jacobi]\n",
    "x1_vals_jacobi = [xi[1][0] for xi in tray_jacobi]\n",
    "\n",
    "x0_vals_seidel = [xi[0][0] for xi in tray_seidel]\n",
    "x1_vals_seidel = [xi[1][0] for xi in tray_seidel]\n",
    "\n",
    "# Graficar para Gauss-Jacobi\n",
    "plt.figure(figsize=(8, 6))\n",
    "plt.plot(x0_vals_jacobi, x1_vals_jacobi, linestyle='--', marker='d', color='orange', label='Iteraciones Jacobi')\n",
    "plt.scatter(tray_jacobi[0][0][0], tray_jacobi[0][1][0], color='purple', marker='^', s=150, label='Inicio Jacobi', edgecolors='black', linewidths=2)\n",
    "plt.scatter(x_jacobi[0][0], x_jacobi[1][0], color='brown', marker='p', s=150, label='Solución Jacobi', edgecolors='black', linewidths=2)\n",
    "plt.xlabel('x[0]', fontsize=12)\n",
    "plt.ylabel('x[1]', fontsize=12)\n",
    "plt.title('Trayectoria del Método de Gauss-Jacobi', fontsize=14)\n",
    "plt.grid(True)\n",
    "plt.legend()\n",
    "plt.show()\n",
    "\n",
    "# Graficar para Gauss-Seidel\n",
    "plt.figure(figsize=(8, 6))\n",
    "plt.plot(x0_vals_seidel, x1_vals_seidel, linestyle='-.', marker='o', color='teal', label='Iteraciones Seidel')\n",
    "plt.scatter(tray_seidel[0][0][0], tray_seidel[0][1][0], color='cyan', marker='s', s=150, label='Inicio Seidel', edgecolors='black', linewidths=2)\n",
    "plt.scatter(x_seidel[0][0], x_seidel[1][0], color='magenta', marker='*', s=150, label='Solución Seidel', edgecolors='black', linewidths=2)\n",
    "plt.xlabel('x[0]', fontsize=12)\n",
    "plt.ylabel('x[1]', fontsize=12)\n",
    "plt.title('Trayectoria del Método de Gauss-Seidel', fontsize=14)\n",
    "plt.grid(True)\n",
    "plt.legend()\n",
    "plt.show()"
   ]
  },
  {
   "cell_type": "code",
   "execution_count": null,
   "metadata": {},
   "outputs": [],
   "source": []
  }
 ],
 "metadata": {
  "kernelspec": {
   "display_name": "base",
   "language": "python",
   "name": "python3"
  },
  "language_info": {
   "codemirror_mode": {
    "name": "ipython",
    "version": 3
   },
   "file_extension": ".py",
   "mimetype": "text/x-python",
   "name": "python",
   "nbconvert_exporter": "python",
   "pygments_lexer": "ipython3",
   "version": "3.12.4"
  }
 },
 "nbformat": 4,
 "nbformat_minor": 2
}
