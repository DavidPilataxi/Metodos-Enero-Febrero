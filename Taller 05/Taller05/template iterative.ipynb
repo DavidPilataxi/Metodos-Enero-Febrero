{
 "cells": [
  {
   "cell_type": "markdown",
   "metadata": {},
   "source": [
    "### Jacobi Seidel Métodos\n",
    "- David Pilataxi  \n",
    "- Gr1cc  \n",
    "Link:  \n",
    "\n",
    "https://github.com/DavidPilataxi/Metodos-Enero-Febrero/blob/main/Taller%2005/Taller%2005.ipynb"
   ]
  },
  {
   "cell_type": "code",
   "execution_count": null,
   "metadata": {},
   "outputs": [],
   "source": [
    "%load_ext autoreload"
   ]
  },
  {
   "cell_type": "code",
   "execution_count": null,
   "metadata": {},
   "outputs": [],
   "source": [
    "%autoreload 2\n",
    "from src import gauss_jacobi\n",
    "from src import gauss_seidel\n",
    "\n",
    "A = [[2, 10], [3, 2]]\n",
    "b = [16, 11]\n",
    "initial_guess = [1, 1]\n",
    "solution, tray = gauss_jacobi(A=A, b=b, x0=initial_guess, tol=1e-6, max_iter=100)\n",
    "print( solution)"
   ]
  },
  {
   "cell_type": "code",
   "execution_count": null,
   "metadata": {},
   "outputs": [],
   "source": [
    "solutions, trays = gauss_seidel(A=A, b=b, x0=initial_guess, tol=1e-10, max_iter=50)\n",
    "print(solutions)"
   ]
  },
  {
   "cell_type": "code",
   "execution_count": null,
   "metadata": {},
   "outputs": [],
   "source": [
    "import matplotlib.pyplot as plt\n",
    "\n",
    "# Coordenadas de los puntos\n",
    "tray_x = [point[0] for point in tray]\n",
    "tray_y = [point[1] for point in tray]\n",
    "\n",
    "tray_xs = [points[0] for points in trays]\n",
    "tray_ys = [points[1] for points in trays]\n",
    "\n",
    "plt.figure(figsize=(10, 5))\n",
    "\n",
    "# Línea de Tray Jacobi\n",
    "plt.plot(tray_x, tray_y, label='Trayectoria Jacobi', linestyle='-', \n",
    "         marker='s', color='blue', zorder=1)\n",
    "\n",
    "# Línea de Tray Seidel\n",
    "plt.plot(tray_xs, tray_ys, label='Trayectoria Seidel', linestyle='-.', \n",
    "         color='green', marker='d', zorder=4)\n",
    "\n",
    "# Punto de la solución\n",
    "plt.scatter(solution[0], solution[1], color='magenta', label='Solución', \n",
    "            zorder=3, s=120)\n",
    "\n",
    "# Punto de la aproximación inicial\n",
    "plt.scatter(initial_guess[0], initial_guess[1], color='orange', \n",
    "            label='Aprox (1,1)', zorder=2, s=100)\n",
    "\n",
    "# Configuración del gráfico\n",
    "plt.title('Comparación: Método Seidel y Jacobi')\n",
    "plt.xlim(-30, 5)\n",
    "plt.ylim(0, 25)\n",
    "plt.xlabel('Eje X')\n",
    "plt.ylabel('Eje Y')\n",
    "plt.grid(True, linestyle='--', alpha=0.7)\n",
    "plt.legend()\n",
    "plt.show()\n"
   ]
  },
  {
   "cell_type": "code",
   "execution_count": null,
   "metadata": {},
   "outputs": [],
   "source": [
    "%autoreload 2\n",
    "from src import gauss_jacobi\n",
    "\n",
    "A = [[3, 2], [2, 10]]\n",
    "b = [11, 16]\n",
    "initial_guess = [1, 1]\n",
    "solution, tray = gauss_jacobi(A=A, b=b, x0=initial_guess, tol=1e-10, max_iter=500)\n",
    "print( solution)\n",
    "\n",
    "solutions, trays = gauss_seidel(A=A, b=b, x0=initial_guess, tol=1e-10, max_iter=50)\n",
    "print(solutions)"
   ]
  },
  {
   "cell_type": "code",
   "execution_count": null,
   "metadata": {},
   "outputs": [],
   "source": [
    "%autoreload 2\n",
    "from src import gauss_jacobi\n",
    "\n",
    "A = [[3, 2], [2, 10]]\n",
    "b = [11, 16]\n",
    "initial_guess = [5, -2]\n",
    "solution, tray = gauss_jacobi(A=A, b=b, x0=initial_guess, tol=1e-10, max_iter=500)\n",
    "print(solution)\n",
    "\n",
    "solutions, trays = gauss_seidel(A=A, b=b, x0=initial_guess, tol=1e-10, max_iter=50)\n",
    "print(solutions)"
   ]
  },
  {
   "cell_type": "code",
   "execution_count": null,
   "metadata": {},
   "outputs": [],
   "source": [
    "import matplotlib.pyplot as plt\n",
    "\n",
    "# Extraer coordenadas de los datos\n",
    "tray_x = [point[0] for point in tray]\n",
    "tray_y = [point[1] for point in tray]\n",
    "\n",
    "tray_xs = [points[0] for points in trays]\n",
    "tray_ys = [points[1] for points in trays]\n",
    "\n",
    "plt.figure(figsize=(10, 5))\n",
    "\n",
    "# Línea de Tray Jacobi\n",
    "plt.plot(tray_x, tray_y, label='Trayectoria Jacobi', linestyle='--', \n",
    "         marker='o', color='blue', zorder=1)\n",
    "\n",
    "# Línea de Tray Seidel\n",
    "plt.plot(tray_xs, tray_ys, label='Trayectoria Seidel', linestyle='--', \n",
    "         color='green', marker='x', zorder=4)\n",
    "\n",
    "# Punto de la solución\n",
    "plt.scatter(solution[0], solution[1], color='red', label='Solución', \n",
    "            zorder=3, s=100)\n",
    "\n",
    "# Punto de la aproximación inicial\n",
    "plt.scatter(initial_guess[0], initial_guess[1], color='orange', \n",
    "            label='Aproximación (5,-2)', zorder=2, s=80)\n",
    "\n",
    "# Configuración del gráfico\n",
    "plt.title('Gráfico de Métodos Seidel y Jacobi')\n",
    "plt.xlim(2, 6)  # Ajuste del rango del eje X\n",
    "plt.ylim(-2, 2)  # Ajuste del rango del eje Y\n",
    "plt.xlabel('Eje X')\n",
    "plt.ylabel('Eje Y')\n",
    "plt.grid(True, linestyle='--', alpha=0.5)\n",
    "plt.legend()\n",
    "plt.show()\n"
   ]
  },
  {
   "cell_type": "code",
   "execution_count": null,
   "metadata": {},
   "outputs": [],
   "source": []
  }
 ],
 "metadata": {
  "kernelspec": {
   "display_name": "base",
   "language": "python",
   "name": "python3"
  },
  "language_info": {
   "codemirror_mode": {
    "name": "ipython",
    "version": 3
   },
   "file_extension": ".py",
   "mimetype": "text/x-python",
   "name": "python",
   "nbconvert_exporter": "python",
   "pygments_lexer": "ipython3",
   "version": "3.12.4"
  }
 },
 "nbformat": 4,
 "nbformat_minor": 2
}
